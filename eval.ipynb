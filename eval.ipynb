{
 "cells": [
  {
   "cell_type": "code",
   "execution_count": 1,
   "metadata": {},
   "outputs": [],
   "source": [
    "import pandas as pd\n",
    "import os\n",
    "import numpy as np\n",
    "import yaml\n",
    "import re\n",
    "import random\n",
    "from sklearn.model_selection import train_test_split\n",
    "from sklearn.preprocessing import LabelEncoder, OneHotEncoder\n",
    "from category_encoders import CatBoostEncoder\n",
    "import lazypredict\n",
    "from lazypredict.Supervised import LazyRegressor\n",
    "import matplotlib.pyplot as plt\n",
    "import seaborn as sns\n",
    "from sklearn.utils import all_estimators\n",
    "from sklearn.base import RegressorMixin\n",
    "from sklearn.utils import shuffle\n",
    "from sklearn.metrics import mean_squared_error, r2_score, mean_absolute_error\n",
    "from sklearn.linear_model import LinearRegression, Ridge, Lasso, ElasticNet, SGDRegressor\n",
    "from sklearn.ensemble import RandomForestRegressor, GradientBoostingRegressor, ExtraTreesRegressor\n",
    "from sklearn.tree import DecisionTreeRegressor\n",
    "from sklearn.neighbors import KNeighborsRegressor\n",
    "from xgboost import XGBRegressor\n",
    "from yellowbrick.regressor import ResidualsPlot\n",
    "from sklearn.pipeline import Pipeline\n",
    "\n",
    "pd.set_option('display.max_rows', None)\n",
    "pd.set_option('display.max_columns', None)\n",
    "pd.set_option('display.width', None)\n",
    "pd.set_option('display.max_colwidth', None)\n",
    "#random seed\n",
    "random.seed(42)\n",
    "config_path = os.path.join(os.getcwd(), 'config\\config.yaml')"
   ]
  },
  {
   "cell_type": "code",
   "execution_count": 2,
   "metadata": {},
   "outputs": [],
   "source": [
    "with open(config_path) as f:\n",
    "    config = yaml.safe_load(f)"
   ]
  },
  {
   "cell_type": "code",
   "execution_count": 3,
   "metadata": {},
   "outputs": [
    {
     "data": {
      "text/plain": [
       "(12513, 28)"
      ]
     },
     "execution_count": 3,
     "metadata": {},
     "output_type": "execute_result"
    }
   ],
   "source": [
    "df = pd.read_csv(\"data_tidy.csv\")\n",
    "df.shape"
   ]
  },
  {
   "cell_type": "code",
   "execution_count": 4,
   "metadata": {},
   "outputs": [],
   "source": [
    "#lowercase if object\n",
    "df = df.apply(lambda x: x.astype(str).str.lower() if x.dtype == \"object\" else x)"
   ]
  },
  {
   "cell_type": "markdown",
   "metadata": {},
   "source": [
    "Drop null những MISC_Price_Euro có giá trị null"
   ]
  },
  {
   "cell_type": "code",
   "execution_count": 5,
   "metadata": {},
   "outputs": [
    {
     "data": {
      "text/plain": [
       "(8438, 28)"
      ]
     },
     "execution_count": 5,
     "metadata": {},
     "output_type": "execute_result"
    }
   ],
   "source": [
    "#drop na in \"MISC_Price_Euro\"\n",
    "df = df.dropna(subset=[\"MISC_Price_Euro\"])\n",
    "df.shape"
   ]
  },
  {
   "cell_type": "code",
   "execution_count": 6,
   "metadata": {},
   "outputs": [],
   "source": [
    "X = df.drop([\"MISC_Price_Euro\"], axis=1)\n",
    "y = df[\"MISC_Price_Euro\"]\n"
   ]
  },
  {
   "cell_type": "code",
   "execution_count": 7,
   "metadata": {},
   "outputs": [],
   "source": [
    "# # X['resolution'] = DISPLAY_Resolution_Width*DISPLAY_Resolution_Height\n",
    "# X['resolution'] = X['DISPLAY_Resolution_Width']*X['DISPLAY_Resolution_Height']\n",
    "# #drop\n",
    "# X = X.drop([\"DISPLAY_Resolution_Width\", \"DISPLAY_Resolution_Height\"], axis=1)"
   ]
  },
  {
   "cell_type": "code",
   "execution_count": 8,
   "metadata": {},
   "outputs": [],
   "source": [
    "X = X.drop([\"NETWORK_GPRS\", \"NETWORK_EDGE\"], axis=1)"
   ]
  },
  {
   "cell_type": "markdown",
   "metadata": {},
   "source": [
    "#### Catboost Enc features"
   ]
  },
  {
   "cell_type": "code",
   "execution_count": 9,
   "metadata": {},
   "outputs": [
    {
     "data": {
      "text/plain": [
       "['Brand',\n",
       " 'NETWORK_Technology',\n",
       " 'NETWORK_2G_bands',\n",
       " 'NETWORK_3G_bands',\n",
       " 'NETWORK_4G_bands',\n",
       " 'NETWORK_5G_bands',\n",
       " 'BATTERY_Type',\n",
       " 'MAIN_CAM_1_Module',\n",
       " 'MAIN_CAM_1_Video',\n",
       " 'DISPLAY_Type',\n",
       " 'PLATFORM_OS',\n",
       " 'MEMORY_Card_slot']"
      ]
     },
     "execution_count": 9,
     "metadata": {},
     "output_type": "execute_result"
    }
   ],
   "source": [
    "cat_enc_cols = config[\"cat_enc_cols\"]\n",
    "cat_enc_cols"
   ]
  },
  {
   "cell_type": "code",
   "execution_count": 10,
   "metadata": {},
   "outputs": [
    {
     "name": "stdout",
     "output_type": "stream",
     "text": [
      "Warning: No categorical columns found. Calling 'transform' will only return input data.\n"
     ]
    }
   ],
   "source": [
    "cat_enc_pipe = Pipeline([\n",
    "    ('enc', CatBoostEncoder())\n",
    "])\n",
    "for col in cat_enc_cols:\n",
    "    X[col] = cat_enc_pipe.fit_transform(X[col], y)"
   ]
  },
  {
   "cell_type": "markdown",
   "metadata": {},
   "source": [
    "#### Enc for labels "
   ]
  },
  {
   "cell_type": "code",
   "execution_count": 11,
   "metadata": {},
   "outputs": [],
   "source": [
    "# df.FEATURES_Sensors = df.FEATURES_Sensors.str.lower()\n",
    "# def find_unique_values(series):\n",
    "#     unique_values = set()\n",
    "#     for value in series:\n",
    "#         if isinstance(value, str):  # Only process string values\n",
    "#             sensors = value.split(', ')\n",
    "#             for sensor in sensors:\n",
    "#                 unique_values.add(sensor)\n",
    "#     return list(unique_values)\n",
    "\n",
    "# sensors = find_unique_values(df.FEATURES_Sensors)\n",
    "# sensors = sorted(sensors)\n",
    "# len(sensors)"
   ]
  },
  {
   "cell_type": "code",
   "execution_count": 12,
   "metadata": {},
   "outputs": [],
   "source": [
    "# # Split the 'FEATURES_Sensors' column into separate sensors\n",
    "# df_sensors = df['FEATURES_Sensors'].str.split(', ', expand=True).stack()\n",
    "# #lowercase\n",
    "\n",
    "# # Create a new DataFrame with the individual sensors and the corresponding 'MISC_Price_Euro' values\n",
    "# df_individual_sensors = df.loc[df_sensors.index.get_level_values(0), ['MISC_Price_Euro']].copy()\n",
    "# df_individual_sensors['Sensor'] = df_sensors.values\n",
    "\n",
    "# # Calculate the mean 'MISC_Price_Euro' for each sensor\n",
    "# sensor_means = df_individual_sensors.groupby('Sensor')['MISC_Price_Euro'].mean()\n",
    "\n",
    "# # Now sensor_means is a Series where the index is the sensor name and the value is the mean 'MISC_Price_Euro'\n",
    "# sensor_means"
   ]
  },
  {
   "cell_type": "code",
   "execution_count": 13,
   "metadata": {},
   "outputs": [],
   "source": [
    "def calculate_sensor_means(df, column):\n",
    "    # Split the column into separate sensors\n",
    "    df[column] = df[column].str.lower()\n",
    "    df_sensors = df[column].str.split(', ', expand=True).stack()\n",
    "    # lowercase all values\n",
    "    df_sensors = df_sensors.str.lower()\n",
    "    # Create a new DataFrame with the individual sensors and the corresponding 'MISC_Price_Euro' values\n",
    "    df_individual_sensors = df.loc[df_sensors.index.get_level_values(0), ['MISC_Price_Euro']].copy()\n",
    "    df_individual_sensors['Sensor'] = df_sensors.values\n",
    "\n",
    "    # Calculate the mean 'MISC_Price_Euro' for each sensor\n",
    "    sensor_means = df_individual_sensors.groupby('Sensor')['MISC_Price_Euro'].mean()\n",
    "\n",
    "    # Replace the values in the column with the mean 'MISC_Price_Euro' for each sensor\n",
    "    df[column] = df[column].apply(lambda x: np.mean([sensor_means.get(i, 0) for i in str(x).split(', ')]))\n",
    "    #fill\n",
    "    df[column].replace(0, df[column].mean(), inplace=True)\n",
    "    #add to X\n",
    "    X[column] = df[column]\n",
    "    return df\n",
    "\n",
    "# Usage:\n",
    "df = calculate_sensor_means(df, 'NETWORK_Speed')\n",
    "df = calculate_sensor_means(df, 'FEATURES_Sensors')"
   ]
  },
  {
   "cell_type": "code",
   "execution_count": 14,
   "metadata": {},
   "outputs": [
    {
     "data": {
      "text/plain": [
       "Brand                           0\n",
       "NETWORK_Technology              0\n",
       "NETWORK_2G_bands                0\n",
       "NETWORK_3G_bands                0\n",
       "NETWORK_4G_bands                0\n",
       "NETWORK_5G_bands                0\n",
       "NETWORK_Speed                   0\n",
       "LAUNCH_Announced               11\n",
       "BODY_Weight                   544\n",
       "BODY_Length                   197\n",
       "BODY_Width                    196\n",
       "BODY_Thickness                167\n",
       "FEATURES_Sensors                0\n",
       "DISPLAY_Type                    0\n",
       "DISPLAY_Size                   90\n",
       "DISPLAY_Resolution_Width       13\n",
       "DISPLAY_Resolution_Height      12\n",
       "PLATFORM_OS                     0\n",
       "MEMORY_Card_slot                0\n",
       "MEMORY_Internal_rom           561\n",
       "MEMORY_Internal_ram          1783\n",
       "BATTERY_Type                    0\n",
       "BATTERY_Capacity              261\n",
       "MAIN_CAM_1_Module               0\n",
       "MAIN_CAM_1_Video                0\n",
       "dtype: int64"
      ]
     },
     "execution_count": 14,
     "metadata": {},
     "output_type": "execute_result"
    }
   ],
   "source": [
    "X.isnull().sum()"
   ]
  },
  {
   "cell_type": "markdown",
   "metadata": {},
   "source": [
    "#### FILLIN"
   ]
  },
  {
   "cell_type": "code",
   "execution_count": 15,
   "metadata": {},
   "outputs": [],
   "source": [
    "from sklearn.impute import KNNImputer"
   ]
  },
  {
   "cell_type": "code",
   "execution_count": 16,
   "metadata": {},
   "outputs": [],
   "source": [
    "# Specify the columns to impute\n",
    "columns_to_impute = ['BODY_Weight', 'BODY_Length', 'BODY_Width', 'BODY_Thickness', \n",
    "                     'MEMORY_Internal_rom', 'MEMORY_Internal_ram', 'LAUNCH_Announced', \n",
    "                     'DISPLAY_Resolution_Width', 'DISPLAY_Resolution_Height', 'DISPLAY_Size', 'BATTERY_Capacity']\n",
    "\n",
    "# Create the imputer\n",
    "imputer = KNNImputer(n_neighbors=3)\n",
    "\n",
    "# Apply the imputer to the specified columns\n",
    "X_filled = imputer.fit_transform(X[columns_to_impute])\n",
    "\n",
    "# Update the original DataFrame with the imputed values\n",
    "X[columns_to_impute] = X_filled"
   ]
  },
  {
   "cell_type": "markdown",
   "metadata": {},
   "source": [
    "#### drop outlier"
   ]
  },
  {
   "cell_type": "code",
   "execution_count": 17,
   "metadata": {},
   "outputs": [
    {
     "ename": "NameError",
     "evalue": "name 'X_scaled' is not defined",
     "output_type": "error",
     "traceback": [
      "\u001b[1;31m---------------------------------------------------------------------------\u001b[0m",
      "\u001b[1;31mNameError\u001b[0m                                 Traceback (most recent call last)",
      "Cell \u001b[1;32mIn[17], line 2\u001b[0m\n\u001b[0;32m      1\u001b[0m \u001b[38;5;66;03m#corr toward y \u001b[39;00m\n\u001b[1;32m----> 2\u001b[0m corr \u001b[38;5;241m=\u001b[39m \u001b[43mX_scaled\u001b[49m\u001b[38;5;241m.\u001b[39mcorrwith(y_scaled)\u001b[38;5;241m.\u001b[39msort_values(ascending\u001b[38;5;241m=\u001b[39m\u001b[38;5;28;01mFalse\u001b[39;00m)\n\u001b[0;32m      3\u001b[0m corr\n",
      "\u001b[1;31mNameError\u001b[0m: name 'X_scaled' is not defined"
     ]
    }
   ],
   "source": [
    "#corr toward y \n",
    "corr = X_scaled.corrwith(y_scaled).sort_values(ascending=False)\n",
    "corr"
   ]
  },
  {
   "cell_type": "code",
   "execution_count": 18,
   "metadata": {},
   "outputs": [
    {
     "data": {
      "text/plain": [
       "Brand                       15.22\n",
       "NETWORK_Technology           1.74\n",
       "NETWORK_2G_bands             0.52\n",
       "NETWORK_3G_bands             2.37\n",
       "NETWORK_4G_bands             6.66\n",
       "NETWORK_5G_bands             6.72\n",
       "NETWORK_Speed                1.24\n",
       "LAUNCH_Announced            -0.12\n",
       "BODY_Weight                  3.78\n",
       "BODY_Length                  0.90\n",
       "BODY_Width                   2.64\n",
       "BODY_Thickness               1.44\n",
       "FEATURES_Sensors            -0.41\n",
       "DISPLAY_Type                 1.55\n",
       "DISPLAY_Size                 0.47\n",
       "DISPLAY_Resolution_Width     0.89\n",
       "DISPLAY_Resolution_Height    0.27\n",
       "PLATFORM_OS                 26.30\n",
       "MEMORY_Card_slot             1.82\n",
       "MEMORY_Internal_rom          2.37\n",
       "MEMORY_Internal_ram          5.89\n",
       "BATTERY_Type                 0.30\n",
       "BATTERY_Capacity             1.44\n",
       "MAIN_CAM_1_Module           -4.06\n",
       "MAIN_CAM_1_Video             1.77\n",
       "dtype: float64"
      ]
     },
     "execution_count": 18,
     "metadata": {},
     "output_type": "execute_result"
    }
   ],
   "source": [
    "#check skewness\n",
    "X.skew()\n",
    "#preprocess for skew"
   ]
  },
  {
   "cell_type": "code",
   "execution_count": 19,
   "metadata": {},
   "outputs": [],
   "source": [
    "#check skewness if high, log transform\n",
    "for col in X.columns:\n",
    "    if X[col].skew() > 1:\n",
    "        X[col] = np.log1p(X[col])"
   ]
  },
  {
   "cell_type": "code",
   "execution_count": 20,
   "metadata": {},
   "outputs": [
    {
     "data": {
      "text/html": [
       "<div>\n",
       "<style scoped>\n",
       "    .dataframe tbody tr th:only-of-type {\n",
       "        vertical-align: middle;\n",
       "    }\n",
       "\n",
       "    .dataframe tbody tr th {\n",
       "        vertical-align: top;\n",
       "    }\n",
       "\n",
       "    .dataframe thead th {\n",
       "        text-align: right;\n",
       "    }\n",
       "</style>\n",
       "<table border=\"1\" class=\"dataframe\">\n",
       "  <thead>\n",
       "    <tr style=\"text-align: right;\">\n",
       "      <th></th>\n",
       "      <th>Brand</th>\n",
       "      <th>NETWORK_Technology</th>\n",
       "      <th>NETWORK_2G_bands</th>\n",
       "      <th>NETWORK_3G_bands</th>\n",
       "      <th>NETWORK_4G_bands</th>\n",
       "      <th>NETWORK_5G_bands</th>\n",
       "      <th>NETWORK_Speed</th>\n",
       "      <th>LAUNCH_Announced</th>\n",
       "      <th>BODY_Weight</th>\n",
       "      <th>BODY_Length</th>\n",
       "      <th>BODY_Width</th>\n",
       "      <th>BODY_Thickness</th>\n",
       "      <th>FEATURES_Sensors</th>\n",
       "      <th>DISPLAY_Type</th>\n",
       "      <th>DISPLAY_Size</th>\n",
       "      <th>DISPLAY_Resolution_Width</th>\n",
       "      <th>DISPLAY_Resolution_Height</th>\n",
       "      <th>PLATFORM_OS</th>\n",
       "      <th>MEMORY_Card_slot</th>\n",
       "      <th>MEMORY_Internal_rom</th>\n",
       "      <th>MEMORY_Internal_ram</th>\n",
       "      <th>BATTERY_Type</th>\n",
       "      <th>BATTERY_Capacity</th>\n",
       "      <th>MAIN_CAM_1_Module</th>\n",
       "      <th>MAIN_CAM_1_Video</th>\n",
       "    </tr>\n",
       "  </thead>\n",
       "  <tbody>\n",
       "    <tr>\n",
       "      <th>0</th>\n",
       "      <td>5.43</td>\n",
       "      <td>5.43</td>\n",
       "      <td>227.52</td>\n",
       "      <td>5.43</td>\n",
       "      <td>5.43</td>\n",
       "      <td>5.43</td>\n",
       "      <td>4.99</td>\n",
       "      <td>2018.00</td>\n",
       "      <td>6.30</td>\n",
       "      <td>238.30</td>\n",
       "      <td>5.15</td>\n",
       "      <td>2.39</td>\n",
       "      <td>254.27</td>\n",
       "      <td>5.43</td>\n",
       "      <td>9.70</td>\n",
       "      <td>1536.00</td>\n",
       "      <td>2048.00</td>\n",
       "      <td>5.43</td>\n",
       "      <td>5.43</td>\n",
       "      <td>17.33</td>\n",
       "      <td>15.25</td>\n",
       "      <td>227.52</td>\n",
       "      <td>8.41</td>\n",
       "      <td>1</td>\n",
       "      <td>5.43</td>\n",
       "    </tr>\n",
       "    <tr>\n",
       "      <th>1</th>\n",
       "      <td>5.64</td>\n",
       "      <td>5.43</td>\n",
       "      <td>227.52</td>\n",
       "      <td>5.43</td>\n",
       "      <td>5.43</td>\n",
       "      <td>5.64</td>\n",
       "      <td>5.28</td>\n",
       "      <td>2016.00</td>\n",
       "      <td>5.56</td>\n",
       "      <td>191.70</td>\n",
       "      <td>4.62</td>\n",
       "      <td>2.34</td>\n",
       "      <td>256.87</td>\n",
       "      <td>5.64</td>\n",
       "      <td>7.00</td>\n",
       "      <td>720.00</td>\n",
       "      <td>1280.00</td>\n",
       "      <td>5.43</td>\n",
       "      <td>5.64</td>\n",
       "      <td>17.33</td>\n",
       "      <td>14.56</td>\n",
       "      <td>227.52</td>\n",
       "      <td>8.13</td>\n",
       "      <td>1</td>\n",
       "      <td>5.43</td>\n",
       "    </tr>\n",
       "    <tr>\n",
       "      <th>2</th>\n",
       "      <td>5.50</td>\n",
       "      <td>5.30</td>\n",
       "      <td>227.52</td>\n",
       "      <td>5.43</td>\n",
       "      <td>5.43</td>\n",
       "      <td>5.50</td>\n",
       "      <td>5.50</td>\n",
       "      <td>2016.00</td>\n",
       "      <td>5.14</td>\n",
       "      <td>153.80</td>\n",
       "      <td>4.34</td>\n",
       "      <td>2.25</td>\n",
       "      <td>278.52</td>\n",
       "      <td>5.50</td>\n",
       "      <td>5.50</td>\n",
       "      <td>1080.00</td>\n",
       "      <td>1920.00</td>\n",
       "      <td>5.30</td>\n",
       "      <td>5.50</td>\n",
       "      <td>17.33</td>\n",
       "      <td>14.96</td>\n",
       "      <td>281.63</td>\n",
       "      <td>8.31</td>\n",
       "      <td>1</td>\n",
       "      <td>5.30</td>\n",
       "    </tr>\n",
       "    <tr>\n",
       "      <th>3</th>\n",
       "      <td>5.51</td>\n",
       "      <td>5.38</td>\n",
       "      <td>240.00</td>\n",
       "      <td>5.48</td>\n",
       "      <td>5.48</td>\n",
       "      <td>5.51</td>\n",
       "      <td>5.48</td>\n",
       "      <td>2016.00</td>\n",
       "      <td>4.84</td>\n",
       "      <td>145.50</td>\n",
       "      <td>4.30</td>\n",
       "      <td>2.25</td>\n",
       "      <td>256.87</td>\n",
       "      <td>5.51</td>\n",
       "      <td>5.00</td>\n",
       "      <td>720.00</td>\n",
       "      <td>1280.00</td>\n",
       "      <td>5.38</td>\n",
       "      <td>5.51</td>\n",
       "      <td>15.94</td>\n",
       "      <td>13.86</td>\n",
       "      <td>198.87</td>\n",
       "      <td>7.60</td>\n",
       "      <td>1</td>\n",
       "      <td>5.43</td>\n",
       "    </tr>\n",
       "    <tr>\n",
       "      <th>4</th>\n",
       "      <td>5.41</td>\n",
       "      <td>5.64</td>\n",
       "      <td>281.63</td>\n",
       "      <td>5.64</td>\n",
       "      <td>5.64</td>\n",
       "      <td>5.41</td>\n",
       "      <td>4.99</td>\n",
       "      <td>2016.00</td>\n",
       "      <td>6.04</td>\n",
       "      <td>259.00</td>\n",
       "      <td>5.12</td>\n",
       "      <td>2.29</td>\n",
       "      <td>254.27</td>\n",
       "      <td>5.41</td>\n",
       "      <td>10.10</td>\n",
       "      <td>1920.00</td>\n",
       "      <td>1200.00</td>\n",
       "      <td>5.27</td>\n",
       "      <td>5.41</td>\n",
       "      <td>18.02</td>\n",
       "      <td>16.64</td>\n",
       "      <td>173.25</td>\n",
       "      <td>8.72</td>\n",
       "      <td>1</td>\n",
       "      <td>5.38</td>\n",
       "    </tr>\n",
       "  </tbody>\n",
       "</table>\n",
       "</div>"
      ],
      "text/plain": [
       "   Brand  NETWORK_Technology  NETWORK_2G_bands  NETWORK_3G_bands  \\\n",
       "0   5.43                5.43            227.52              5.43   \n",
       "1   5.64                5.43            227.52              5.43   \n",
       "2   5.50                5.30            227.52              5.43   \n",
       "3   5.51                5.38            240.00              5.48   \n",
       "4   5.41                5.64            281.63              5.64   \n",
       "\n",
       "   NETWORK_4G_bands  NETWORK_5G_bands  NETWORK_Speed  LAUNCH_Announced  \\\n",
       "0              5.43              5.43           4.99           2018.00   \n",
       "1              5.43              5.64           5.28           2016.00   \n",
       "2              5.43              5.50           5.50           2016.00   \n",
       "3              5.48              5.51           5.48           2016.00   \n",
       "4              5.64              5.41           4.99           2016.00   \n",
       "\n",
       "   BODY_Weight  BODY_Length  BODY_Width  BODY_Thickness  FEATURES_Sensors  \\\n",
       "0         6.30       238.30        5.15            2.39            254.27   \n",
       "1         5.56       191.70        4.62            2.34            256.87   \n",
       "2         5.14       153.80        4.34            2.25            278.52   \n",
       "3         4.84       145.50        4.30            2.25            256.87   \n",
       "4         6.04       259.00        5.12            2.29            254.27   \n",
       "\n",
       "   DISPLAY_Type  DISPLAY_Size  DISPLAY_Resolution_Width  \\\n",
       "0          5.43          9.70                   1536.00   \n",
       "1          5.64          7.00                    720.00   \n",
       "2          5.50          5.50                   1080.00   \n",
       "3          5.51          5.00                    720.00   \n",
       "4          5.41         10.10                   1920.00   \n",
       "\n",
       "   DISPLAY_Resolution_Height  PLATFORM_OS  MEMORY_Card_slot  \\\n",
       "0                    2048.00         5.43              5.43   \n",
       "1                    1280.00         5.43              5.64   \n",
       "2                    1920.00         5.30              5.50   \n",
       "3                    1280.00         5.38              5.51   \n",
       "4                    1200.00         5.27              5.41   \n",
       "\n",
       "   MEMORY_Internal_rom  MEMORY_Internal_ram  BATTERY_Type  BATTERY_Capacity  \\\n",
       "0                17.33                15.25        227.52              8.41   \n",
       "1                17.33                14.56        227.52              8.13   \n",
       "2                17.33                14.96        281.63              8.31   \n",
       "3                15.94                13.86        198.87              7.60   \n",
       "4                18.02                16.64        173.25              8.72   \n",
       "\n",
       "   MAIN_CAM_1_Module  MAIN_CAM_1_Video  \n",
       "0                  1              5.43  \n",
       "1                  1              5.43  \n",
       "2                  1              5.30  \n",
       "3                  1              5.43  \n",
       "4                  1              5.38  "
      ]
     },
     "execution_count": 20,
     "metadata": {},
     "output_type": "execute_result"
    }
   ],
   "source": [
    "X.head()"
   ]
  },
  {
   "cell_type": "markdown",
   "metadata": {},
   "source": [
    "#### test w/ lazy_predict"
   ]
  },
  {
   "cell_type": "code",
   "execution_count": 21,
   "metadata": {},
   "outputs": [],
   "source": [
    "#standardScaler\n",
    "from sklearn.preprocessing import StandardScaler"
   ]
  },
  {
   "cell_type": "code",
   "execution_count": 22,
   "metadata": {},
   "outputs": [
    {
     "data": {
      "text/html": [
       "<div>\n",
       "<style scoped>\n",
       "    .dataframe tbody tr th:only-of-type {\n",
       "        vertical-align: middle;\n",
       "    }\n",
       "\n",
       "    .dataframe tbody tr th {\n",
       "        vertical-align: top;\n",
       "    }\n",
       "\n",
       "    .dataframe thead th {\n",
       "        text-align: right;\n",
       "    }\n",
       "</style>\n",
       "<table border=\"1\" class=\"dataframe\">\n",
       "  <thead>\n",
       "    <tr style=\"text-align: right;\">\n",
       "      <th></th>\n",
       "      <th>Brand</th>\n",
       "      <th>NETWORK_Technology</th>\n",
       "      <th>NETWORK_2G_bands</th>\n",
       "      <th>NETWORK_3G_bands</th>\n",
       "      <th>NETWORK_4G_bands</th>\n",
       "      <th>NETWORK_5G_bands</th>\n",
       "      <th>NETWORK_Speed</th>\n",
       "      <th>LAUNCH_Announced</th>\n",
       "      <th>BODY_Weight</th>\n",
       "      <th>BODY_Length</th>\n",
       "      <th>BODY_Width</th>\n",
       "      <th>BODY_Thickness</th>\n",
       "      <th>FEATURES_Sensors</th>\n",
       "      <th>DISPLAY_Type</th>\n",
       "      <th>DISPLAY_Size</th>\n",
       "      <th>PLATFORM_OS</th>\n",
       "      <th>MEMORY_Card_slot</th>\n",
       "      <th>MEMORY_Internal_rom</th>\n",
       "      <th>MEMORY_Internal_ram</th>\n",
       "      <th>BATTERY_Type</th>\n",
       "      <th>BATTERY_Capacity</th>\n",
       "      <th>MAIN_CAM_1_Module</th>\n",
       "      <th>MAIN_CAM_1_Video</th>\n",
       "      <th>DISPLAY_Resolution_Width</th>\n",
       "      <th>DISPLAY_Resolution_Height</th>\n",
       "    </tr>\n",
       "  </thead>\n",
       "  <tbody>\n",
       "    <tr>\n",
       "      <th>0</th>\n",
       "      <td>-0.07</td>\n",
       "      <td>0.22</td>\n",
       "      <td>0.05</td>\n",
       "      <td>0.21</td>\n",
       "      <td>0.50</td>\n",
       "      <td>0.42</td>\n",
       "      <td>-1.24</td>\n",
       "      <td>0.55</td>\n",
       "      <td>2.66</td>\n",
       "      <td>2.51</td>\n",
       "      <td>3.08</td>\n",
       "      <td>-0.13</td>\n",
       "      <td>-0.02</td>\n",
       "      <td>0.20</td>\n",
       "      <td>2.20</td>\n",
       "      <td>2.03</td>\n",
       "      <td>0.94</td>\n",
       "      <td>0.41</td>\n",
       "      <td>0.22</td>\n",
       "      <td>0.47</td>\n",
       "      <td>0.61</td>\n",
       "      <td>-0.04</td>\n",
       "      <td>0.90</td>\n",
       "      <td>0.23</td>\n",
       "      <td>0.18</td>\n",
       "    </tr>\n",
       "    <tr>\n",
       "      <th>1</th>\n",
       "      <td>0.37</td>\n",
       "      <td>0.22</td>\n",
       "      <td>0.05</td>\n",
       "      <td>0.21</td>\n",
       "      <td>0.50</td>\n",
       "      <td>1.51</td>\n",
       "      <td>-0.39</td>\n",
       "      <td>0.14</td>\n",
       "      <td>1.10</td>\n",
       "      <td>1.28</td>\n",
       "      <td>1.26</td>\n",
       "      <td>-0.31</td>\n",
       "      <td>0.01</td>\n",
       "      <td>0.60</td>\n",
       "      <td>0.94</td>\n",
       "      <td>0.04</td>\n",
       "      <td>0.00</td>\n",
       "      <td>0.41</td>\n",
       "      <td>0.72</td>\n",
       "      <td>0.47</td>\n",
       "      <td>0.31</td>\n",
       "      <td>-0.04</td>\n",
       "      <td>0.51</td>\n",
       "      <td>0.23</td>\n",
       "      <td>0.18</td>\n",
       "    </tr>\n",
       "    <tr>\n",
       "      <th>2</th>\n",
       "      <td>0.08</td>\n",
       "      <td>-0.03</td>\n",
       "      <td>0.05</td>\n",
       "      <td>0.21</td>\n",
       "      <td>0.50</td>\n",
       "      <td>0.78</td>\n",
       "      <td>0.26</td>\n",
       "      <td>0.14</td>\n",
       "      <td>0.20</td>\n",
       "      <td>0.29</td>\n",
       "      <td>0.28</td>\n",
       "      <td>-0.66</td>\n",
       "      <td>0.29</td>\n",
       "      <td>0.34</td>\n",
       "      <td>0.25</td>\n",
       "      <td>0.92</td>\n",
       "      <td>0.78</td>\n",
       "      <td>0.14</td>\n",
       "      <td>0.39</td>\n",
       "      <td>0.47</td>\n",
       "      <td>0.48</td>\n",
       "      <td>0.91</td>\n",
       "      <td>0.77</td>\n",
       "      <td>0.23</td>\n",
       "      <td>-0.08</td>\n",
       "    </tr>\n",
       "    <tr>\n",
       "      <th>3</th>\n",
       "      <td>0.09</td>\n",
       "      <td>0.13</td>\n",
       "      <td>0.22</td>\n",
       "      <td>0.35</td>\n",
       "      <td>0.66</td>\n",
       "      <td>0.83</td>\n",
       "      <td>0.20</td>\n",
       "      <td>0.14</td>\n",
       "      <td>-0.42</td>\n",
       "      <td>0.07</td>\n",
       "      <td>0.13</td>\n",
       "      <td>-0.66</td>\n",
       "      <td>0.01</td>\n",
       "      <td>0.35</td>\n",
       "      <td>0.01</td>\n",
       "      <td>0.04</td>\n",
       "      <td>0.00</td>\n",
       "      <td>0.31</td>\n",
       "      <td>0.41</td>\n",
       "      <td>0.04</td>\n",
       "      <td>0.01</td>\n",
       "      <td>-0.54</td>\n",
       "      <td>-0.23</td>\n",
       "      <td>0.23</td>\n",
       "      <td>0.18</td>\n",
       "    </tr>\n",
       "    <tr>\n",
       "      <th>4</th>\n",
       "      <td>-0.12</td>\n",
       "      <td>0.64</td>\n",
       "      <td>0.81</td>\n",
       "      <td>0.76</td>\n",
       "      <td>1.17</td>\n",
       "      <td>0.28</td>\n",
       "      <td>-1.24</td>\n",
       "      <td>0.14</td>\n",
       "      <td>2.11</td>\n",
       "      <td>3.06</td>\n",
       "      <td>2.97</td>\n",
       "      <td>-0.50</td>\n",
       "      <td>-0.02</td>\n",
       "      <td>0.15</td>\n",
       "      <td>2.38</td>\n",
       "      <td>2.96</td>\n",
       "      <td>-0.09</td>\n",
       "      <td>0.09</td>\n",
       "      <td>0.16</td>\n",
       "      <td>0.68</td>\n",
       "      <td>1.21</td>\n",
       "      <td>-0.99</td>\n",
       "      <td>1.33</td>\n",
       "      <td>0.23</td>\n",
       "      <td>0.09</td>\n",
       "    </tr>\n",
       "  </tbody>\n",
       "</table>\n",
       "</div>"
      ],
      "text/plain": [
       "   Brand  NETWORK_Technology  NETWORK_2G_bands  NETWORK_3G_bands  \\\n",
       "0  -0.07                0.22              0.05              0.21   \n",
       "1   0.37                0.22              0.05              0.21   \n",
       "2   0.08               -0.03              0.05              0.21   \n",
       "3   0.09                0.13              0.22              0.35   \n",
       "4  -0.12                0.64              0.81              0.76   \n",
       "\n",
       "   NETWORK_4G_bands  NETWORK_5G_bands  NETWORK_Speed  LAUNCH_Announced  \\\n",
       "0              0.50              0.42          -1.24              0.55   \n",
       "1              0.50              1.51          -0.39              0.14   \n",
       "2              0.50              0.78           0.26              0.14   \n",
       "3              0.66              0.83           0.20              0.14   \n",
       "4              1.17              0.28          -1.24              0.14   \n",
       "\n",
       "   BODY_Weight  BODY_Length  BODY_Width  BODY_Thickness  FEATURES_Sensors  \\\n",
       "0         2.66         2.51        3.08           -0.13             -0.02   \n",
       "1         1.10         1.28        1.26           -0.31              0.01   \n",
       "2         0.20         0.29        0.28           -0.66              0.29   \n",
       "3        -0.42         0.07        0.13           -0.66              0.01   \n",
       "4         2.11         3.06        2.97           -0.50             -0.02   \n",
       "\n",
       "   DISPLAY_Type  DISPLAY_Size  PLATFORM_OS  MEMORY_Card_slot  \\\n",
       "0          0.20          2.20         2.03              0.94   \n",
       "1          0.60          0.94         0.04              0.00   \n",
       "2          0.34          0.25         0.92              0.78   \n",
       "3          0.35          0.01         0.04              0.00   \n",
       "4          0.15          2.38         2.96             -0.09   \n",
       "\n",
       "   MEMORY_Internal_rom  MEMORY_Internal_ram  BATTERY_Type  BATTERY_Capacity  \\\n",
       "0                 0.41                 0.22          0.47              0.61   \n",
       "1                 0.41                 0.72          0.47              0.31   \n",
       "2                 0.14                 0.39          0.47              0.48   \n",
       "3                 0.31                 0.41          0.04              0.01   \n",
       "4                 0.09                 0.16          0.68              1.21   \n",
       "\n",
       "   MAIN_CAM_1_Module  MAIN_CAM_1_Video  DISPLAY_Resolution_Width  \\\n",
       "0              -0.04              0.90                      0.23   \n",
       "1              -0.04              0.51                      0.23   \n",
       "2               0.91              0.77                      0.23   \n",
       "3              -0.54             -0.23                      0.23   \n",
       "4              -0.99              1.33                      0.23   \n",
       "\n",
       "   DISPLAY_Resolution_Height  \n",
       "0                       0.18  \n",
       "1                       0.18  \n",
       "2                      -0.08  \n",
       "3                       0.18  \n",
       "4                       0.09  "
      ]
     },
     "execution_count": 22,
     "metadata": {},
     "output_type": "execute_result"
    }
   ],
   "source": [
    "scaler = StandardScaler()\n",
    "X = scaler.fit_transform(X,y)\n",
    "y_scaled = scaler.fit_transform(y.values.reshape(-1,1))\n",
    "#log1p scale for y\n",
    "# y = np.log1p(y)\n",
    "y_scaled = y\n",
    "X_scaled = pd.DataFrame(X, columns=config['variables'])\n",
    "X_scaled.head()"
   ]
  },
  {
   "cell_type": "code",
   "execution_count": 23,
   "metadata": {},
   "outputs": [],
   "source": [
    "regressors = config['regressors']\n",
    "#removed regressors are those not in regressors \n",
    "removed_regressors = [est[0] for est in all_estimators() if (est[0] not in regressors)]\n",
    "\n",
    "regressor_list = [\n",
    "    est\n",
    "    for est in all_estimators()\n",
    "    if (issubclass(est[1], RegressorMixin) and (est[0] not in removed_regressors))\n",
    "]\n",
    "def lazy_eval(X_train, y_train, X_test, y_test):\n",
    "    reg = LazyRegressor(verbose=0, ignore_warnings=False, custom_metric=None,predictions=False, regressors = regressor_list)\n",
    "    models, predictions = reg.fit(X_train, X_test, y_train, y_test)\n",
    "    return models, predictions\n",
    "X_train, X_test, y_train, y_test = train_test_split(X_scaled, y_scaled, test_size=0.3, random_state=0)"
   ]
  },
  {
   "cell_type": "code",
   "execution_count": 148,
   "metadata": {},
   "outputs": [
    {
     "name": "stdout",
     "output_type": "stream",
     "text": [
      "'tuple' object has no attribute '__name__'\n",
      "Invalid Regressor(s)\n"
     ]
    },
    {
     "name": "stderr",
     "output_type": "stream",
     "text": [
      "100%|██████████| 9/9 [00:36<00:00,  4.10s/it]\n"
     ]
    },
    {
     "data": {
      "text/html": [
       "<div>\n",
       "<style scoped>\n",
       "    .dataframe tbody tr th:only-of-type {\n",
       "        vertical-align: middle;\n",
       "    }\n",
       "\n",
       "    .dataframe tbody tr th {\n",
       "        vertical-align: top;\n",
       "    }\n",
       "\n",
       "    .dataframe thead th {\n",
       "        text-align: right;\n",
       "    }\n",
       "</style>\n",
       "<table border=\"1\" class=\"dataframe\">\n",
       "  <thead>\n",
       "    <tr style=\"text-align: right;\">\n",
       "      <th></th>\n",
       "      <th>Adjusted R-Squared</th>\n",
       "      <th>R-Squared</th>\n",
       "      <th>RMSE</th>\n",
       "      <th>Time Taken</th>\n",
       "    </tr>\n",
       "    <tr>\n",
       "      <th>Model</th>\n",
       "      <th></th>\n",
       "      <th></th>\n",
       "      <th></th>\n",
       "      <th></th>\n",
       "    </tr>\n",
       "  </thead>\n",
       "  <tbody>\n",
       "    <tr>\n",
       "      <th>ExtraTreesRegressor</th>\n",
       "      <td>0.81</td>\n",
       "      <td>0.81</td>\n",
       "      <td>0.32</td>\n",
       "      <td>6.57</td>\n",
       "    </tr>\n",
       "    <tr>\n",
       "      <th>RandomForestRegressor</th>\n",
       "      <td>0.81</td>\n",
       "      <td>0.81</td>\n",
       "      <td>0.32</td>\n",
       "      <td>20.24</td>\n",
       "    </tr>\n",
       "    <tr>\n",
       "      <th>SVR</th>\n",
       "      <td>0.79</td>\n",
       "      <td>0.79</td>\n",
       "      <td>0.34</td>\n",
       "      <td>2.71</td>\n",
       "    </tr>\n",
       "    <tr>\n",
       "      <th>GradientBoostingRegressor</th>\n",
       "      <td>0.78</td>\n",
       "      <td>0.78</td>\n",
       "      <td>0.35</td>\n",
       "      <td>5.72</td>\n",
       "    </tr>\n",
       "    <tr>\n",
       "      <th>KNeighborsRegressor</th>\n",
       "      <td>0.75</td>\n",
       "      <td>0.75</td>\n",
       "      <td>0.37</td>\n",
       "      <td>0.14</td>\n",
       "    </tr>\n",
       "    <tr>\n",
       "      <th>LinearRegression</th>\n",
       "      <td>0.70</td>\n",
       "      <td>0.70</td>\n",
       "      <td>0.41</td>\n",
       "      <td>0.03</td>\n",
       "    </tr>\n",
       "    <tr>\n",
       "      <th>SGDRegressor</th>\n",
       "      <td>0.70</td>\n",
       "      <td>0.70</td>\n",
       "      <td>0.41</td>\n",
       "      <td>0.04</td>\n",
       "    </tr>\n",
       "    <tr>\n",
       "      <th>AdaBoostRegressor</th>\n",
       "      <td>0.65</td>\n",
       "      <td>0.65</td>\n",
       "      <td>0.44</td>\n",
       "      <td>1.20</td>\n",
       "    </tr>\n",
       "    <tr>\n",
       "      <th>DecisionTreeRegressor</th>\n",
       "      <td>0.63</td>\n",
       "      <td>0.63</td>\n",
       "      <td>0.45</td>\n",
       "      <td>0.27</td>\n",
       "    </tr>\n",
       "  </tbody>\n",
       "</table>\n",
       "</div>"
      ],
      "text/plain": [
       "                           Adjusted R-Squared  R-Squared  RMSE  Time Taken\n",
       "Model                                                                     \n",
       "ExtraTreesRegressor                      0.81       0.81  0.32        6.57\n",
       "RandomForestRegressor                    0.81       0.81  0.32       20.24\n",
       "SVR                                      0.79       0.79  0.34        2.71\n",
       "GradientBoostingRegressor                0.78       0.78  0.35        5.72\n",
       "KNeighborsRegressor                      0.75       0.75  0.37        0.14\n",
       "LinearRegression                         0.70       0.70  0.41        0.03\n",
       "SGDRegressor                             0.70       0.70  0.41        0.04\n",
       "AdaBoostRegressor                        0.65       0.65  0.44        1.20\n",
       "DecisionTreeRegressor                    0.63       0.63  0.45        0.27"
      ]
     },
     "execution_count": 148,
     "metadata": {},
     "output_type": "execute_result"
    }
   ],
   "source": [
    "models, predictions = lazy_eval(X_train, y_train, X_test, y_test)\n",
    "models"
   ]
  },
  {
   "cell_type": "code",
   "execution_count": 149,
   "metadata": {},
   "outputs": [
    {
     "name": "stdout",
     "output_type": "stream",
     "text": [
      "R^2: 0.8142422005586928\n",
      "Root Mean Squared Error: 0.3212372773928405\n",
      "MSE: 0.10319338838676476\n"
     ]
    }
   ],
   "source": [
    "model = ExtraTreesRegressor(random_state=42)\n",
    "model.fit(X_train, y_train)\n",
    "# Make predictions and evalute\n",
    "y_pred = model.predict(X_test)\n",
    "print(\"R^2: {}\".format(model.score(X_test, y_test)))\n",
    "rmse = np.sqrt(mean_squared_error(y_test, y_pred))\n",
    "print(\"Root Mean Squared Error: {}\".format(rmse))\n",
    "print(\"MSE: {}\".format(mean_squared_error(y_test, y_pred)))"
   ]
  },
  {
   "cell_type": "markdown",
   "metadata": {},
   "source": [
    "#### tuning"
   ]
  },
  {
   "cell_type": "code",
   "execution_count": 24,
   "metadata": {},
   "outputs": [],
   "source": [
    "from sklearn.ensemble import ExtraTreesRegressor\n",
    "from sklearn.pipeline import Pipeline\n",
    "from sklearn.model_selection import cross_val_score\n",
    "from bayes_opt import BayesianOptimization\n",
    "import numpy as np"
   ]
  },
  {
   "cell_type": "markdown",
   "metadata": {},
   "source": [
    "#### ExtraTree "
   ]
  },
  {
   "cell_type": "code",
   "execution_count": 156,
   "metadata": {},
   "outputs": [
    {
     "name": "stdout",
     "output_type": "stream",
     "text": [
      "|   iter    |  target   | max_depth | n_esti... |\n",
      "-------------------------------------------------\n",
      "| \u001b[0m1        \u001b[0m | \u001b[0m0.6461   \u001b[0m | \u001b[0m4.17     \u001b[0m | \u001b[0m122.0    \u001b[0m |\n",
      "| \u001b[95m2        \u001b[0m | \u001b[95m0.8087   \u001b[0m | \u001b[95m0.001144 \u001b[0m | \u001b[95m80.23    \u001b[0m |\n",
      "| \u001b[0m3        \u001b[0m | \u001b[0m0.3766   \u001b[0m | \u001b[0m1.468    \u001b[0m | \u001b[0m59.23    \u001b[0m |\n",
      "| \u001b[0m4        \u001b[0m | \u001b[0m0.3806   \u001b[0m | \u001b[0m1.863    \u001b[0m | \u001b[0m84.56    \u001b[0m |\n",
      "| \u001b[0m5        \u001b[0m | \u001b[0m0.5923   \u001b[0m | \u001b[0m3.968    \u001b[0m | \u001b[0m103.9    \u001b[0m |\n",
      "| \u001b[0m6        \u001b[0m | \u001b[0m0.646    \u001b[0m | \u001b[0m4.192    \u001b[0m | \u001b[0m118.5    \u001b[0m |\n",
      "| \u001b[0m7        \u001b[0m | \u001b[0m0.5239   \u001b[0m | \u001b[0m2.045    \u001b[0m | \u001b[0m137.8    \u001b[0m |\n",
      "| \u001b[95m8        \u001b[0m | \u001b[95m0.8092   \u001b[0m | \u001b[95m0.2739   \u001b[0m | \u001b[95m117.0    \u001b[0m |\n",
      "| \u001b[0m9        \u001b[0m | \u001b[0m0.6458   \u001b[0m | \u001b[0m4.173    \u001b[0m | \u001b[0m105.9    \u001b[0m |\n",
      "| \u001b[0m10       \u001b[0m | \u001b[0m0.3773   \u001b[0m | \u001b[0m1.404    \u001b[0m | \u001b[0m69.81    \u001b[0m |\n",
      "| \u001b[0m11       \u001b[0m | \u001b[0m0.8085   \u001b[0m | \u001b[0m0.0      \u001b[0m | \u001b[0m78.08    \u001b[0m |\n",
      "| \u001b[95m12       \u001b[0m | \u001b[95m0.8093   \u001b[0m | \u001b[95m0.0      \u001b[0m | \u001b[95m113.2    \u001b[0m |\n",
      "| \u001b[0m13       \u001b[0m | \u001b[0m0.6456   \u001b[0m | \u001b[0m4.662    \u001b[0m | \u001b[0m112.2    \u001b[0m |\n",
      "| \u001b[0m14       \u001b[0m | \u001b[0m0.7833   \u001b[0m | \u001b[0m10.0     \u001b[0m | \u001b[0m150.0    \u001b[0m |\n",
      "| \u001b[0m15       \u001b[0m | \u001b[0m0.6453   \u001b[0m | \u001b[0m4.804    \u001b[0m | \u001b[0m150.0    \u001b[0m |\n",
      "| \u001b[0m16       \u001b[0m | \u001b[0m0.7834   \u001b[0m | \u001b[0m10.0     \u001b[0m | \u001b[0m145.2    \u001b[0m |\n",
      "| \u001b[0m17       \u001b[0m | \u001b[0m0.7833   \u001b[0m | \u001b[0m10.0     \u001b[0m | \u001b[0m139.6    \u001b[0m |\n",
      "| \u001b[0m18       \u001b[0m | \u001b[0m0.7738   \u001b[0m | \u001b[0m9.971    \u001b[0m | \u001b[0m133.4    \u001b[0m |\n",
      "| \u001b[0m19       \u001b[0m | \u001b[0m0.7833   \u001b[0m | \u001b[0m10.0     \u001b[0m | \u001b[0m127.7    \u001b[0m |\n",
      "| \u001b[0m20       \u001b[0m | \u001b[0m0.6842   \u001b[0m | \u001b[0m5.06     \u001b[0m | \u001b[0m129.5    \u001b[0m |\n",
      "| \u001b[0m21       \u001b[0m | \u001b[0m0.7717   \u001b[0m | \u001b[0m9.932    \u001b[0m | \u001b[0m50.06    \u001b[0m |\n",
      "| \u001b[0m22       \u001b[0m | \u001b[0m0.6454   \u001b[0m | \u001b[0m4.461    \u001b[0m | \u001b[0m50.08    \u001b[0m |\n",
      "| \u001b[0m23       \u001b[0m | \u001b[0m0.772    \u001b[0m | \u001b[0m9.993    \u001b[0m | \u001b[0m55.5     \u001b[0m |\n",
      "| \u001b[0m24       \u001b[0m | \u001b[0m0.7837   \u001b[0m | \u001b[0m10.0     \u001b[0m | \u001b[0m94.95    \u001b[0m |\n",
      "| \u001b[0m25       \u001b[0m | \u001b[0m0.7728   \u001b[0m | \u001b[0m9.924    \u001b[0m | \u001b[0m90.27    \u001b[0m |\n",
      "| \u001b[0m26       \u001b[0m | \u001b[0m0.684    \u001b[0m | \u001b[0m5.25     \u001b[0m | \u001b[0m94.26    \u001b[0m |\n",
      "| \u001b[0m27       \u001b[0m | \u001b[0m0.7837   \u001b[0m | \u001b[0m10.0     \u001b[0m | \u001b[0m77.49    \u001b[0m |\n",
      "| \u001b[0m28       \u001b[0m | \u001b[0m0.6836   \u001b[0m | \u001b[0m5.093    \u001b[0m | \u001b[0m77.82    \u001b[0m |\n",
      "| \u001b[0m29       \u001b[0m | \u001b[0m0.7721   \u001b[0m | \u001b[0m9.962    \u001b[0m | \u001b[0m72.71    \u001b[0m |\n",
      "| \u001b[0m30       \u001b[0m | \u001b[0m0.7837   \u001b[0m | \u001b[0m10.0     \u001b[0m | \u001b[0m99.91    \u001b[0m |\n",
      "=================================================\n",
      "{'max_depth': 0, 'n_estimators': 113}\n"
     ]
    }
   ],
   "source": [
    "from sklearn.ensemble import ExtraTreesRegressor\n",
    "from sklearn.pipeline import Pipeline\n",
    "from sklearn.model_selection import cross_val_score\n",
    "from bayes_opt import BayesianOptimization\n",
    "import numpy as np\n",
    "\n",
    "# Define the pipeline\n",
    "pipe = Pipeline([\n",
    "    ('reg', ExtraTreesRegressor(random_state=42))\n",
    "])\n",
    "\n",
    "# Define the function to optimize\n",
    "def evaluate(n_estimators, max_depth):\n",
    "    max_depth = int(max_depth)\n",
    "    if max_depth == 0:\n",
    "        max_depth = None\n",
    "    pipe.set_params(reg__n_estimators=int(n_estimators),\n",
    "                    reg__max_depth=max_depth)\n",
    "    return np.mean(cross_val_score(pipe, X_train, y_train, cv=5, scoring='r2'))\n",
    "\n",
    "# Define the bounds of the parameters\n",
    "param_bounds = {\n",
    "    'n_estimators': (50, 150),\n",
    "    'max_depth': (0, 10),  # 0 will be interpreted as None\n",
    "}\n",
    "\n",
    "# Create the Bayesian Optimization object\n",
    "optimizer = BayesianOptimization(\n",
    "    f=evaluate,\n",
    "    pbounds=param_bounds,\n",
    "    random_state=1,\n",
    ")\n",
    "\n",
    "# Perform the optimization\n",
    "optimizer.maximize(init_points=10, n_iter=20)\n",
    "\n",
    "# Get the best parameters\n",
    "best_params = optimizer.max['params']\n",
    "best_params['n_estimators'] = int(best_params['n_estimators'])\n",
    "best_params['max_depth'] = int(best_params['max_depth'])\n",
    "\n",
    "print(best_params)"
   ]
  },
  {
   "cell_type": "code",
   "execution_count": 157,
   "metadata": {},
   "outputs": [
    {
     "name": "stdout",
     "output_type": "stream",
     "text": [
      "R2: 0.8129\n",
      "MSE: 0.1039\n",
      "MAE: 0.2372\n"
     ]
    }
   ],
   "source": [
    "best_params['max_depth'] = None\n",
    "pipe = Pipeline([\n",
    "    ('reg', ExtraTreesRegressor(**best_params)\n",
    ")])\n",
    "pipe.fit(X_train, y_train)\n",
    "print('R2: {:.4f}'.format(pipe.score(X_test, y_test)))\n",
    "print('MSE: {:.4f}'.format(mean_squared_error(y_test, pipe.predict(X_test))))\n",
    "print('MAE: {:.4f}'.format(mean_absolute_error(y_test, pipe.predict(X_test))))"
   ]
  },
  {
   "cell_type": "code",
   "execution_count": 1030,
   "metadata": {},
   "outputs": [
    {
     "name": "stdout",
     "output_type": "stream",
     "text": [
      "R^2: 0.5814\n",
      "MSE: 0.3597\n"
     ]
    }
   ],
   "source": [
    "# pipe = Pipeline([\n",
    "#     ('transform', PolynomialFeatures(1)),\n",
    "#     ('reg', ExtraTreesRegressor(105))\n",
    "# ])\n",
    "\n",
    "# pipe.fit(X_train, y_train)\n",
    "\n",
    "# r2_linear = r2_score(y_test, pipe.predict(X_test))\n",
    "# mse_linear = mean_squared_error(y_test, pipe.predict(X_test))\n",
    "# print(f\"R^2: {r2_linear:.4f}\")\n",
    "# print(f\"MSE: {mse_linear:.4f}\")"
   ]
  },
  {
   "cell_type": "markdown",
   "metadata": {},
   "source": [
    "# linear regression model"
   ]
  },
  {
   "cell_type": "code",
   "execution_count": 25,
   "metadata": {},
   "outputs": [
    {
     "name": "stdout",
     "output_type": "stream",
     "text": [
      "|   iter    |  target   |  degree   | fit_in... | positive  |\n",
      "-------------------------------------------------------------\n",
      "| \u001b[0m1        \u001b[0m | \u001b[0m0.2459   \u001b[0m | \u001b[0m1.834    \u001b[0m | \u001b[0m0.7203   \u001b[0m | \u001b[0m0.0001144\u001b[0m |\n",
      "| \u001b[0m2        \u001b[0m | \u001b[0m0.2459   \u001b[0m | \u001b[0m1.605    \u001b[0m | \u001b[0m0.1468   \u001b[0m | \u001b[0m0.09234  \u001b[0m |\n",
      "| \u001b[0m3        \u001b[0m | \u001b[0m0.2459   \u001b[0m | \u001b[0m1.373    \u001b[0m | \u001b[0m0.3456   \u001b[0m | \u001b[0m0.3968   \u001b[0m |\n",
      "| \u001b[95m4        \u001b[0m | \u001b[95m0.4776   \u001b[0m | \u001b[95m2.078    \u001b[0m | \u001b[95m0.4192   \u001b[0m | \u001b[95m0.6852   \u001b[0m |\n",
      "| \u001b[0m5        \u001b[0m | \u001b[0m0.2459   \u001b[0m | \u001b[0m1.409    \u001b[0m | \u001b[0m0.8781   \u001b[0m | \u001b[0m0.02739  \u001b[0m |\n",
      "| \u001b[0m6        \u001b[0m | \u001b[0m0.4776   \u001b[0m | \u001b[0m2.341    \u001b[0m | \u001b[0m0.4173   \u001b[0m | \u001b[0m0.5587   \u001b[0m |\n",
      "| \u001b[0m7        \u001b[0m | \u001b[0m0.2459   \u001b[0m | \u001b[0m1.281    \u001b[0m | \u001b[0m0.1981   \u001b[0m | \u001b[0m0.8007   \u001b[0m |\n",
      "| \u001b[0m8        \u001b[0m | \u001b[0m0.4776   \u001b[0m | \u001b[0m2.937    \u001b[0m | \u001b[0m0.3134   \u001b[0m | \u001b[0m0.6923   \u001b[0m |\n",
      "| \u001b[0m9        \u001b[0m | \u001b[0m0.4776   \u001b[0m | \u001b[0m2.753    \u001b[0m | \u001b[0m0.8946   \u001b[0m | \u001b[0m0.08504  \u001b[0m |\n",
      "| \u001b[0m10       \u001b[0m | \u001b[0m0.2459   \u001b[0m | \u001b[0m1.078    \u001b[0m | \u001b[0m0.1698   \u001b[0m | \u001b[0m0.8781   \u001b[0m |\n",
      "| \u001b[0m11       \u001b[0m | \u001b[0m0.4776   \u001b[0m | \u001b[0m2.588    \u001b[0m | \u001b[0m1.0      \u001b[0m | \u001b[0m1.0      \u001b[0m |\n",
      "| \u001b[0m12       \u001b[0m | \u001b[0m0.4776   \u001b[0m | \u001b[0m2.361    \u001b[0m | \u001b[0m0.1212   \u001b[0m | \u001b[0m0.9838   \u001b[0m |\n",
      "=============================================================\n",
      "{'degree': 2, 'fit_intercept': False, 'positive': 0.6852195003967595}\n"
     ]
    }
   ],
   "source": [
    "from sklearn.preprocessing import PolynomialFeatures\n",
    "# Define the pipeline\n",
    "pipe = Pipeline([\n",
    "    ('transform', PolynomialFeatures()),\n",
    "    ('reg', LinearRegression())\n",
    "])\n",
    "\n",
    "# Define the function to optimize\n",
    "def evaluate(degree, fit_intercept, positive):\n",
    "    pipe.set_params(transform__degree=int(degree), reg__fit_intercept=bool(fit_intercept),\n",
    "                    reg__positive=bool(positive))\n",
    "    return np.mean(cross_val_score(pipe, X_train, y_train, cv=5, scoring='r2'))\n",
    "\n",
    "# Define the bounds of the parameters\n",
    "param_bounds = {\n",
    "    'degree': (1, 3),\n",
    "    'fit_intercept': (0, 1),  # 0 for False, 1 for True\n",
    "    'positive': (0, 1)\n",
    "    \n",
    "}\n",
    "\n",
    "# Create the Bayesian Optimization object\n",
    "optimizer = BayesianOptimization(\n",
    "    f=evaluate,\n",
    "    pbounds=param_bounds,\n",
    "    random_state=1,\n",
    ")\n",
    "\n",
    "# Perform the optimization\n",
    "optimizer.maximize(init_points=10, n_iter=2)\n",
    "\n",
    "# Get the best parameters\n",
    "best_params = optimizer.max['params']\n",
    "best_params['degree'] = int(best_params['degree'])\n",
    "best_params['fit_intercept'] = bool(int(best_params['fit_intercept']))\n",
    "print(best_params)"
   ]
  },
  {
   "cell_type": "code",
   "execution_count": 26,
   "metadata": {},
   "outputs": [
    {
     "name": "stdout",
     "output_type": "stream",
     "text": [
      "R^2: 0.3942\n",
      "MSE: 64966.6265\n",
      "MAE: 109.4830\n"
     ]
    }
   ],
   "source": [
    "pipe = Pipeline([\n",
    "    ('transform', PolynomialFeatures(degree=best_params['degree'])),\n",
    "    ('reg', LinearRegression(fit_intercept=best_params['fit_intercept']))\n",
    "])\n",
    "\n",
    "# Fit the model\n",
    "pipe.fit(X_train, y_train)\n",
    "\n",
    "# Evaluate on the test set\n",
    "r2_linear = r2_score(y_test, pipe.predict(X_test))\n",
    "mse_linear = mean_squared_error(y_test, pipe.predict(X_test))\n",
    "print(f\"R^2: {r2_linear:.4f}\")\n",
    "print(f\"MSE: {mse_linear:.4f}\")\n",
    "print(f\"MAE: {mean_absolute_error(y_test, pipe.predict(X_test)):.4f}\")"
   ]
  },
  {
   "cell_type": "markdown",
   "metadata": {},
   "source": [
    "#### KNNREGRESSOR"
   ]
  },
  {
   "cell_type": "code",
   "execution_count": 27,
   "metadata": {},
   "outputs": [
    {
     "name": "stdout",
     "output_type": "stream",
     "text": [
      "|   iter    |  target   | n_neig... |     p     |\n",
      "-------------------------------------------------\n",
      "| \u001b[0m1        \u001b[0m | \u001b[0m0.4763   \u001b[0m | \u001b[0m4.753    \u001b[0m | \u001b[0m2.441    \u001b[0m |\n",
      "| \u001b[0m2        \u001b[0m | \u001b[0m0.3737   \u001b[0m | \u001b[0m1.001    \u001b[0m | \u001b[0m1.605    \u001b[0m |\n",
      "| \u001b[0m3        \u001b[0m | \u001b[0m0.4283   \u001b[0m | \u001b[0m2.321    \u001b[0m | \u001b[0m1.185    \u001b[0m |\n",
      "| \u001b[0m4        \u001b[0m | \u001b[0m0.4283   \u001b[0m | \u001b[0m2.676    \u001b[0m | \u001b[0m1.691    \u001b[0m |\n",
      "| \u001b[0m5        \u001b[0m | \u001b[0m0.4763   \u001b[0m | \u001b[0m4.571    \u001b[0m | \u001b[0m2.078    \u001b[0m |\n",
      "| \u001b[0m6        \u001b[0m | \u001b[0m0.3779   \u001b[0m | \u001b[0m6.816    \u001b[0m | \u001b[0m1.0      \u001b[0m |\n",
      "| \u001b[0m7        \u001b[0m | \u001b[0m0.4684   \u001b[0m | \u001b[0m10.0     \u001b[0m | \u001b[0m3.0      \u001b[0m |\n",
      "| \u001b[0m8        \u001b[0m | \u001b[0m0.3427   \u001b[0m | \u001b[0m10.0     \u001b[0m | \u001b[0m1.221    \u001b[0m |\n",
      "| \u001b[0m9        \u001b[0m | \u001b[0m0.4752   \u001b[0m | \u001b[0m3.796    \u001b[0m | \u001b[0m3.0      \u001b[0m |\n",
      "| \u001b[95m10       \u001b[0m | \u001b[95m0.4805   \u001b[0m | \u001b[95m8.381    \u001b[0m | \u001b[95m3.0      \u001b[0m |\n",
      "| \u001b[0m11       \u001b[0m | \u001b[0m0.4794   \u001b[0m | \u001b[0m6.699    \u001b[0m | \u001b[0m3.0      \u001b[0m |\n",
      "| \u001b[0m12       \u001b[0m | \u001b[0m0.3984   \u001b[0m | \u001b[0m4.004    \u001b[0m | \u001b[0m1.0      \u001b[0m |\n",
      "| \u001b[95m13       \u001b[0m | \u001b[95m0.4847   \u001b[0m | \u001b[95m7.537    \u001b[0m | \u001b[95m3.0      \u001b[0m |\n",
      "| \u001b[0m14       \u001b[0m | \u001b[0m0.396    \u001b[0m | \u001b[0m2.479    \u001b[0m | \u001b[0m3.0      \u001b[0m |\n",
      "| \u001b[0m15       \u001b[0m | \u001b[0m0.4737   \u001b[0m | \u001b[0m5.645    \u001b[0m | \u001b[0m2.997    \u001b[0m |\n",
      "| \u001b[0m16       \u001b[0m | \u001b[0m0.4733   \u001b[0m | \u001b[0m9.202    \u001b[0m | \u001b[0m3.0      \u001b[0m |\n",
      "| \u001b[95m17       \u001b[0m | \u001b[95m0.5228   \u001b[0m | \u001b[95m3.989    \u001b[0m | \u001b[95m2.369    \u001b[0m |\n",
      "| \u001b[0m18       \u001b[0m | \u001b[0m0.5228   \u001b[0m | \u001b[0m3.631    \u001b[0m | \u001b[0m2.203    \u001b[0m |\n",
      "| \u001b[0m19       \u001b[0m | \u001b[0m0.5228   \u001b[0m | \u001b[0m3.886    \u001b[0m | \u001b[0m2.059    \u001b[0m |\n",
      "| \u001b[0m20       \u001b[0m | \u001b[0m0.46     \u001b[0m | \u001b[0m8.031    \u001b[0m | \u001b[0m2.171    \u001b[0m |\n",
      "| \u001b[0m21       \u001b[0m | \u001b[0m0.5228   \u001b[0m | \u001b[0m3.814    \u001b[0m | \u001b[0m2.269    \u001b[0m |\n",
      "| \u001b[0m22       \u001b[0m | \u001b[0m0.4517   \u001b[0m | \u001b[0m4.506    \u001b[0m | \u001b[0m3.0      \u001b[0m |\n",
      "| \u001b[0m23       \u001b[0m | \u001b[0m0.4876   \u001b[0m | \u001b[0m6.061    \u001b[0m | \u001b[0m2.27     \u001b[0m |\n",
      "| \u001b[0m24       \u001b[0m | \u001b[0m0.4876   \u001b[0m | \u001b[0m6.975    \u001b[0m | \u001b[0m2.327    \u001b[0m |\n",
      "| \u001b[0m25       \u001b[0m | \u001b[0m0.4708   \u001b[0m | \u001b[0m3.528    \u001b[0m | \u001b[0m1.839    \u001b[0m |\n",
      "| \u001b[0m26       \u001b[0m | \u001b[0m0.3618   \u001b[0m | \u001b[0m1.0      \u001b[0m | \u001b[0m3.0      \u001b[0m |\n",
      "| \u001b[0m27       \u001b[0m | \u001b[0m0.3691   \u001b[0m | \u001b[0m8.372    \u001b[0m | \u001b[0m1.0      \u001b[0m |\n",
      "| \u001b[0m28       \u001b[0m | \u001b[0m0.3884   \u001b[0m | \u001b[0m5.441    \u001b[0m | \u001b[0m1.001    \u001b[0m |\n",
      "| \u001b[0m29       \u001b[0m | \u001b[0m0.5228   \u001b[0m | \u001b[0m3.319    \u001b[0m | \u001b[0m2.535    \u001b[0m |\n",
      "| \u001b[0m30       \u001b[0m | \u001b[0m0.5228   \u001b[0m | \u001b[0m3.214    \u001b[0m | \u001b[0m2.31     \u001b[0m |\n",
      "=================================================\n"
     ]
    }
   ],
   "source": [
    "from sklearn.neighbors import KNeighborsRegressor\n",
    "\n",
    "# Define the pipeline\n",
    "pipe = Pipeline([\n",
    "    # ('transform', PolynomialFeatures()),\n",
    "    ('reg', KNeighborsRegressor())\n",
    "])\n",
    "\n",
    "# Define the function to optimize\n",
    "def evaluate(n_neighbors, p):\n",
    "    pipe.set_params(reg__n_neighbors=int(n_neighbors), reg__p=int(p))\n",
    "    return np.mean(cross_val_score(pipe, X_train, y_train, cv=5, scoring='r2'))\n",
    "\n",
    "# Define the bounds of the parameters\n",
    "param_bounds = {\n",
    "    'n_neighbors': (1, 10),\n",
    "    'p': (1, 3),\n",
    "}\n",
    "\n",
    "# Create the Bayesian Optimization object\n",
    "optimizer = BayesianOptimization(\n",
    "    f=evaluate,\n",
    "    pbounds=param_bounds,\n",
    "    random_state=1,\n",
    ")\n",
    "\n",
    "# Perform the optimization\n",
    "optimizer.maximize(init_points=5, n_iter=25)\n",
    "\n",
    "# Get the best parameters\n",
    "best_params = optimizer.max['params']\n",
    "best_params['n_neighbors'] = int(best_params['n_neighbors'])\n",
    "best_params['p'] = int(best_params['p'])"
   ]
  },
  {
   "cell_type": "code",
   "execution_count": 28,
   "metadata": {},
   "outputs": [
    {
     "name": "stdout",
     "output_type": "stream",
     "text": [
      "R^2: 0.4104\n",
      "MSE: 63230.8899\n",
      "MAE: 70.0334\n"
     ]
    }
   ],
   "source": [
    "pipe = Pipeline([\n",
    "    # ('transform', PolynomialFeatures(degree=best_params['degree'])),\n",
    "    ('reg', KNeighborsRegressor(n_neighbors=best_params['n_neighbors'], p=best_params['p']))\n",
    "])\n",
    "\n",
    "# Fit the model\n",
    "pipe.fit(X_train, y_train)\n",
    "\n",
    "# Evaluate on the test set\n",
    "r2_knn = r2_score(y_test, pipe.predict(X_test))\n",
    "mse_knn = mean_squared_error(y_test, pipe.predict(X_test))\n",
    "print(f\"R^2: {r2_knn:.4f}\")\n",
    "print(f\"MSE: {mse_knn:.4f}\")\n",
    "print(f\"MAE: {mean_absolute_error(y_test, pipe.predict(X_test)):.4f}\")\n",
    "    "
   ]
  }
 ],
 "metadata": {
  "kernelspec": {
   "display_name": "base",
   "language": "python",
   "name": "python3"
  },
  "language_info": {
   "codemirror_mode": {
    "name": "ipython",
    "version": 3
   },
   "file_extension": ".py",
   "mimetype": "text/x-python",
   "name": "python",
   "nbconvert_exporter": "python",
   "pygments_lexer": "ipython3",
   "version": "3.10.9"
  }
 },
 "nbformat": 4,
 "nbformat_minor": 2
}
